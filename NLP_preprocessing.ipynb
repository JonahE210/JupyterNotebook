{
 "cells": [
  {
   "cell_type": "code",
   "id": "initial_id",
   "metadata": {
    "collapsed": true,
    "jupyter": {
     "is_executing": true
    }
   },
   "source": [
    "import nltk\n",
    "nltk.download('stopwords')\n",
    "from nltk.corpus import stopwords"
   ],
   "outputs": [],
   "execution_count": null
  },
  {
   "metadata": {
    "ExecuteTime": {
     "end_time": "2025-07-20T19:13:33.784190Z",
     "start_time": "2025-07-20T19:13:33.780783Z"
    }
   },
   "cell_type": "code",
   "source": [
    "en_stopwords = stopwords.words('english')\n",
    "print(en_stopwords)"
   ],
   "id": "b9c270e728964f87",
   "outputs": [
    {
     "name": "stdout",
     "output_type": "stream",
     "text": [
      "['a', 'about', 'above', 'after', 'again', 'against', 'ain', 'all', 'am', 'an', 'and', 'any', 'are', 'aren', \"aren't\", 'as', 'at', 'be', 'because', 'been', 'before', 'being', 'below', 'between', 'both', 'but', 'by', 'can', 'couldn', \"couldn't\", 'd', 'did', 'didn', \"didn't\", 'do', 'does', 'doesn', \"doesn't\", 'doing', 'don', \"don't\", 'down', 'during', 'each', 'few', 'for', 'from', 'further', 'had', 'hadn', \"hadn't\", 'has', 'hasn', \"hasn't\", 'have', 'haven', \"haven't\", 'having', 'he', \"he'd\", \"he'll\", 'her', 'here', 'hers', 'herself', \"he's\", 'him', 'himself', 'his', 'how', 'i', \"i'd\", 'if', \"i'll\", \"i'm\", 'in', 'into', 'is', 'isn', \"isn't\", 'it', \"it'd\", \"it'll\", \"it's\", 'its', 'itself', \"i've\", 'just', 'll', 'm', 'ma', 'me', 'mightn', \"mightn't\", 'more', 'most', 'mustn', \"mustn't\", 'my', 'myself', 'needn', \"needn't\", 'no', 'nor', 'not', 'now', 'o', 'of', 'off', 'on', 'once', 'only', 'or', 'other', 'our', 'ours', 'ourselves', 'out', 'over', 'own', 're', 's', 'same', 'shan', \"shan't\", 'she', \"she'd\", \"she'll\", \"she's\", 'should', 'shouldn', \"shouldn't\", \"should've\", 'so', 'some', 'such', 't', 'than', 'that', \"that'll\", 'the', 'their', 'theirs', 'them', 'themselves', 'then', 'there', 'these', 'they', \"they'd\", \"they'll\", \"they're\", \"they've\", 'this', 'those', 'through', 'to', 'too', 'under', 'until', 'up', 've', 'very', 'was', 'wasn', \"wasn't\", 'we', \"we'd\", \"we'll\", \"we're\", 'were', 'weren', \"weren't\", \"we've\", 'what', 'when', 'where', 'which', 'while', 'who', 'whom', 'why', 'will', 'with', 'won', \"won't\", 'wouldn', \"wouldn't\", 'y', 'you', \"you'd\", \"you'll\", 'your', \"you're\", 'yours', 'yourself', 'yourselves', \"you've\"]\n"
     ]
    }
   ],
   "execution_count": 5
  },
  {
   "metadata": {
    "ExecuteTime": {
     "end_time": "2025-07-20T20:47:17.969446Z",
     "start_time": "2025-07-20T20:47:17.966001Z"
    }
   },
   "cell_type": "code",
   "source": [
    "sentence = (\"go to sleep\")\n",
    "new_sentence = \" \".join([word for word in sentence.split() if word not in(en_stopwords)])\n",
    "print(new_sentence)"
   ],
   "id": "c3f71a965aed064",
   "outputs": [
    {
     "name": "stdout",
     "output_type": "stream",
     "text": [
      "go sleep\n"
     ]
    }
   ],
   "execution_count": 31
  },
  {
   "metadata": {},
   "cell_type": "markdown",
   "source": "Regular Expressions",
   "id": "ec2fbdf8c32cedee"
  },
  {
   "metadata": {
    "ExecuteTime": {
     "end_time": "2025-07-27T18:35:33.566698Z",
     "start_time": "2025-07-27T18:35:33.562948Z"
    }
   },
   "cell_type": "code",
   "source": "import re",
   "id": "4e939953a6f667b4",
   "outputs": [],
   "execution_count": 4
  },
  {
   "metadata": {
    "ExecuteTime": {
     "end_time": "2025-07-20T20:47:16.682052Z",
     "start_time": "2025-07-20T20:47:16.679361Z"
    }
   },
   "cell_type": "code",
   "source": "#raw strings - r",
   "id": "13728e9729ea0aed",
   "outputs": [],
   "execution_count": 30
  },
  {
   "metadata": {
    "ExecuteTime": {
     "end_time": "2025-07-20T20:46:59.973654Z",
     "start_time": "2025-07-20T20:46:59.969357Z"
    }
   },
   "cell_type": "code",
   "source": [
    "raw_sentence = r\"C:\\desktop\\users\\jonah\"\n",
    "print(raw_sentence)"
   ],
   "id": "186f6d60334fa144",
   "outputs": [
    {
     "name": "stdout",
     "output_type": "stream",
     "text": [
      "C:\\desktop\\users\\jonah\n"
     ]
    }
   ],
   "execution_count": 27
  },
  {
   "metadata": {
    "ExecuteTime": {
     "end_time": "2025-07-20T20:57:36.571664Z",
     "start_time": "2025-07-20T20:57:36.567134Z"
    }
   },
   "cell_type": "code",
   "source": [
    "result_search = re.search(r\"jonah\", raw_sentence)\n",
    "print(result_search)"
   ],
   "id": "371f14595e52a2e8",
   "outputs": [
    {
     "name": "stdout",
     "output_type": "stream",
     "text": [
      "<re.Match object; span=(17, 22), match='jonah'>\n"
     ]
    }
   ],
   "execution_count": 33
  },
  {
   "metadata": {
    "ExecuteTime": {
     "end_time": "2025-07-27T18:35:34.708859Z",
     "start_time": "2025-07-27T18:35:34.704474Z"
    }
   },
   "cell_type": "code",
   "source": [
    "customer_reviews = ['sam was a great help to me in the store',\n",
    " 'the cashier was very rude to me, I think her name was eleanor',\n",
    " 'amazing work from sadeen!',\n",
    " 'sarah was able to help me find the items i needed quickly',\n",
    " 'lucy is such a great addition to the team',\n",
    " 'great service from sara she found me what i wanted']\n",
    "a_reviews = []\n",
    "pattern = r\"^a\"\n",
    "for review in customer_reviews:\n",
    "    if re.search(pattern, review):\n",
    "        a_reviews.append(review)\n",
    "print(a_reviews)\n"
   ],
   "id": "cedb57b48580e66e",
   "outputs": [
    {
     "name": "stdout",
     "output_type": "stream",
     "text": [
      "['amazing work from sadeen!']\n"
     ]
    }
   ],
   "execution_count": 5
  },
  {
   "metadata": {},
   "cell_type": "markdown",
   "source": "Tokenization",
   "id": "615f8e9bde42f87f"
  },
  {
   "metadata": {
    "ExecuteTime": {
     "end_time": "2025-07-27T18:35:05.212331Z",
     "start_time": "2025-07-27T18:35:04.467761Z"
    }
   },
   "cell_type": "code",
   "source": [
    "import nltk\n",
    "nltk.download('punkt_tab')\n",
    "from nltk.tokenize import word_tokenize, sent_tokenize"
   ],
   "id": "5636f14f7506779b",
   "outputs": [
    {
     "name": "stderr",
     "output_type": "stream",
     "text": [
      "[nltk_data] Downloading package punkt_tab to\n",
      "[nltk_data]     C:\\Users\\jonah\\AppData\\Roaming\\nltk_data...\n",
      "[nltk_data]   Unzipping tokenizers\\punkt_tab.zip.\n"
     ]
    }
   ],
   "execution_count": 2
  },
  {
   "metadata": {
    "ExecuteTime": {
     "end_time": "2025-07-27T18:48:57.600380Z",
     "start_time": "2025-07-27T18:48:57.596438Z"
    }
   },
   "cell_type": "code",
   "source": [
    "sentence = \"connect connectivity connected connector foot cacti puppies leaves sexes names radii octopi\"\n",
    "tokened_sentence = word_tokenize(sentence)\n",
    "print(tokened_sentence)"
   ],
   "id": "8d2e72d149ba5b64",
   "outputs": [
    {
     "name": "stdout",
     "output_type": "stream",
     "text": [
      "['connect', 'connectivity', 'connected', 'connector', 'foot', 'cacti', 'puppies', 'leaves', 'sexes', 'names', 'radii', 'octopi']\n"
     ]
    }
   ],
   "execution_count": 20
  },
  {
   "metadata": {},
   "cell_type": "markdown",
   "source": "Stemming and Lemmatization",
   "id": "48ee9cd5e8b22a6f"
  },
  {
   "metadata": {
    "ExecuteTime": {
     "end_time": "2025-07-27T18:45:39.292457Z",
     "start_time": "2025-07-27T18:45:38.105622Z"
    }
   },
   "cell_type": "code",
   "source": [
    "from nltk import PorterStemmer, WordNetLemmatizer\n",
    "nltk.download('wordnet')"
   ],
   "id": "a1a72a70fa5e2df6",
   "outputs": [
    {
     "name": "stderr",
     "output_type": "stream",
     "text": [
      "[nltk_data] Downloading package wordnet to\n",
      "[nltk_data]     C:\\Users\\jonah\\AppData\\Roaming\\nltk_data...\n"
     ]
    },
    {
     "data": {
      "text/plain": [
       "True"
      ]
     },
     "execution_count": 15,
     "metadata": {},
     "output_type": "execute_result"
    }
   ],
   "execution_count": 15
  },
  {
   "metadata": {
    "ExecuteTime": {
     "end_time": "2025-07-27T18:43:29.846884Z",
     "start_time": "2025-07-27T18:43:29.843131Z"
    }
   },
   "cell_type": "code",
   "source": [
    "ps = PorterStemmer()\n",
    "wl = WordNetLemmatizer()"
   ],
   "id": "3d16f9acb1d44cdc",
   "outputs": [],
   "execution_count": 11
  },
  {
   "metadata": {
    "ExecuteTime": {
     "end_time": "2025-07-27T18:43:58.979224Z",
     "start_time": "2025-07-27T18:43:58.974354Z"
    }
   },
   "cell_type": "code",
   "source": [
    "for i in tokened_sentence:\n",
    "    print(i, \" \", ps.stem(i))"
   ],
   "id": "1f5c55c84830b332",
   "outputs": [
    {
     "name": "stdout",
     "output_type": "stream",
     "text": [
      "nigga   nigga\n",
      "why   whi\n",
      "are   are\n",
      "you   you\n",
      "so   so\n",
      "black   black\n",
      "my   my\n",
      "guy   guy\n"
     ]
    }
   ],
   "execution_count": 13
  },
  {
   "metadata": {
    "ExecuteTime": {
     "end_time": "2025-07-27T18:49:00.561035Z",
     "start_time": "2025-07-27T18:49:00.556984Z"
    }
   },
   "cell_type": "code",
   "source": [
    "for i in tokened_sentence:\n",
    "    print(i, \" \", wl.lemmatize(i))"
   ],
   "id": "1d393719cb9ad1a1",
   "outputs": [
    {
     "name": "stdout",
     "output_type": "stream",
     "text": [
      "connect   connect\n",
      "connectivity   connectivity\n",
      "connected   connected\n",
      "connector   connector\n",
      "foot   foot\n",
      "cacti   cactus\n",
      "puppies   puppy\n",
      "leaves   leaf\n",
      "sexes   sex\n",
      "names   name\n",
      "radii   radius\n",
      "octopi   octopus\n"
     ]
    }
   ],
   "execution_count": 21
  },
  {
   "metadata": {},
   "cell_type": "markdown",
   "source": "N-grams",
   "id": "1e8befff3572295d"
  },
  {
   "metadata": {
    "ExecuteTime": {
     "end_time": "2025-07-27T19:05:56.807638Z",
     "start_time": "2025-07-27T19:05:56.804138Z"
    }
   },
   "cell_type": "code",
   "source": [
    "import pandas as pd\n",
    "import matplotlib.pyplot as plt"
   ],
   "id": "7af6b8f0cd13963d",
   "outputs": [],
   "execution_count": 51
  },
  {
   "metadata": {
    "ExecuteTime": {
     "end_time": "2025-07-27T19:23:09.417241Z",
     "start_time": "2025-07-27T19:23:09.401769Z"
    }
   },
   "cell_type": "code",
   "source": [
    "sentence_two = r\"In today’s digital age, social media platforms like TikTok, YouTube, and Instagram have become key spaces where young men shape and present their identities. Social media enables new definitions of masculinity, yet it mainly promotes dangerous masculine stereotypes which negatively affect young men's mental health and their relationships. The issue extends beyond cultural discussions because it creates measurable psychological and societal problems. Male mental health has deteriorated in recent years, so understanding the social factors that contribute to this crisis would be beneficial. While social media has the potential to expand and diversify definitions of masculinity, it often amplifies toxic ideologies. The increasing rates of male suicide together with emotional repression and social withdrawal create an internal identity conflict which develops through online content consumption, almost unnoticeably. To understand this crisis, we must first explore how masculinity has been defined historically. Throughout history, masculinity has been associated with dominance, emotional control, and stoicism. Social media algorithms today disrupt and reshape the traditional cultural ideals that family, religion, and media used to uphold. Influencers achieve massive followings through their presentation of aggressive and wealthy and powerful forms of manhood because these messages create intense reactions which generate likes and shares and algorithmic growth. Young men who regularly consume these messages adopt dangerous and limited definitions of masculinity even though they may not explicitly endorse them. These figures simplify masculinity into two extremes by showing emotional openness as a sign of weakness. The repeated exposure to these messages, even passively, conditions young men to internalize narrow, damaging views of what it means to “be a man,” reinforcing insecurity rather than building confidence.The backing comes from psychological and sociological research. Ronald F. Levant and Shana Pryor demonstrate in The Tough Standard: The Impact of Masculine Ideals on Men’s Wellbeing that strict masculine norms create negative outcomes, including anxiety, depression, and substance abuse. According to Levant and Pryor, men who must hide their emotions and avoid showing vulnerability tend to use harmful coping methods which damage themselves and their surrounding people.  This internalization of stress contributes to emotional isolation and creates long-term consequences, from relationship breakdowns to riskier behaviors in adulthood. Additionally, Y. Joel Wong et al., in their meta-analysis, confirm these patterns across a large body of studies, showing a strong relationship between conformity to masculine norms and poorer mental health outcomes (Wong et al. 80). Together, these findings show that the influence of hyper-masculine messaging on social media is not just theoretical, it has real-world psychological and social consequences that need to be dealt with.There are important qualifiers that must also be addressed, one of the main ones being that social media content does not always promote toxic masculinity because there are other types of content available. Male influencers as well as mental health advocates and content creators actively work to challenge traditional gender norms by promoting emotional openness and therapy and vulnerability. Social media platforms host accounts which promote mental fitness and positive masculinity and healthy relationships as alternative models for young men to emulate. According to Potts and Stebleton, social media platforms provide “two possible roles for men who either display exaggerated masculinity or work toward authentic self-expression” (Potts and Stebleton 1), while Professor Neil from Malmö University uses his Instagram platform to detoxify masculinity through his promotion of emotional honesty and healthy vulnerability (Charalampopoulos 8). These examples demonstrate that social media supports transformation when the algorithm enables such content to gain visibility. Levant and Pryor explain that the issue extends beyond individual influencers because online environments with competition and polarization actively support rigid masculine standards. The online spread of toxic masculine messages leads to major cultural effects which shape young mens interactions with women and other marginalized groups. Through both direct and indirect means, hyper-masculine figures spread misogynistic beliefs which portray women as less capable than men and as manipulative or untrustworthy. The harmful ideology damages personal relationships while simultaneously fueling cultural resistance against gender equality. Potts and Stebleton explain that this form of digital masculinity can become a social performance that builds community through exclusion, often at the expense of women and queer individuals (Potts and Stebleton 1). Young men who encounter repeated messages linking dominance to respect may face challenges in building respectful relationships. Being exposed to these messages reinforces behavioral patterns that support aggression, feelings of entitlement, and emotional detachment which result in gender-based violence and online harassment. These attitudes lead men to become socially isolated which prevents them from building healthy romantic or platonic relationships which creates a cycle of frustration and emotional immaturity that drives them to seek validation from online communities. The ‘need’ to follow strict masculine norms creates difficulties for men when they try to connect with one-another because it hinders their ability to share emotions in friendships. The practice of emotional straightjacketing prevents men from showing fear and sadness and affection because these emotions are considered unmanly. Young men often experience social isolation despite their active social lives because of this phenomenon. According to Englar-Carlson, traditional masculinity creates a major problem by preventing men from forming emotional bonds which are vital for building mental strength and developing healthy identities (Englar-Carlson). Wong et al. back this up by mentioning how 'men who strictly adhere to masculine norms are less likely to seek help or maintain emotionally supportive relationships, further exacerbating isolation' (Wong et al. 81). This implies that emotional constraints lead to a form of shallow friendships, the ones that lack trust, which in turn, leaves young men without a support system when dealing with emotions. Social media platforms that promote performative toughness create additional obstacles for young men to seek help or show vulnerability in public digital environments. This can increase isolation since silence is presented as ‘strength’ under this view yet it actually blocks their ability to heal and grow. In order to address this issue, a variety of measures need to be implemented simultaneously to resolve the masculinity crisis across individual and systemic domains. Educational institutions should establish media literacy programs which teach students to analyze gendered content found online. These programs can enable students to identify harmful stereotypes while they learn to doubt influencer credibility and establish better definitions of masculinity. The research by Charalampopoulos on Professor Neil’s Instagram platform shows that content creators who model healthy masculinity can effectively counter toxic norms when their platforms focus on vulnerability and emotional intelligence (Charalampopoulos 40). Second, social media companies need to reassess how their algorithms prioritize content. Platforms that reward sensationalism should also invest in promoting creators who model positive, emotionally intelligent behaviors. Government policy may also play a role by incentivizing platforms to promote mental wellness and equity in representation. Mental health services need to develop specific outreach strategies for young men which combine stigma reduction with accessible support systems that young men can relate to. The approach should include male-specific group therapy together with mentorship programs and public awareness campaigns that show emotional strength as a masculine trait. The combined strategies have the power to break harmful patterns while building a more empathetic and inclusive definition of masculinity. Young men need to evaluate how online representations of masculinity influence their self-perception and their views about their body image. The research shows that men now face similar body image pressures that used to be associated with women. Social media platforms display muscular, wealthy male influencers who present themselves as confident standards for men. The research by Wong et al shows that following masculine appearance standards results in psychological distress and disordered behaviors which include compulsive exercising and body dissatisfaction. The meta-analysis shows that “men who feel pressured to achieve unattainable physical standards develop low self-esteem and experience anxiety and shame” (Wong et al. 84). Young men who try to meet these unattainable standards may develop dangerous practices or experience inadequacy which worsens the mental health crisis. The social media era reveals the masculinity crisis as a cultural problem which society has ignored for a long time. The platforms' influence on young men's self-perception and their perception of others leads to increasing risks. The study reveals that online hyper-masculine content produces adverse mental health consequences and emotional isolation and aggressive behavior based on gender and restricted personal growth. Social media simultaneously presents dual opportunities for recovery and reformation. Educational programs combined with media oversight and mental health support initiatives enable society to help young men develop new definitions of strength and emotional intelligence. The process of redefining masculinity requires expanding its definition to include emotional vulnerability, empathetic behavior, and authentic self-expression. Only through this approach can a healthier and more inclusive future emerge for those finding their own identity in the digital age.\"\n",
    "\n",
    "stwotokenized = word_tokenize(sentence_two)\n",
    "print(stwotokenized)"
   ],
   "id": "9231c0aafdc850df",
   "outputs": [
    {
     "name": "stdout",
     "output_type": "stream",
     "text": [
      "['In', 'today', '’', 's', 'digital', 'age', ',', 'social', 'media', 'platforms', 'like', 'TikTok', ',', 'YouTube', ',', 'and', 'Instagram', 'have', 'become', 'key', 'spaces', 'where', 'young', 'men', 'shape', 'and', 'present', 'their', 'identities', '.', 'Social', 'media', 'enables', 'new', 'definitions', 'of', 'masculinity', ',', 'yet', 'it', 'mainly', 'promotes', 'dangerous', 'masculine', 'stereotypes', 'which', 'negatively', 'affect', 'young', 'men', \"'s\", 'mental', 'health', 'and', 'their', 'relationships', '.', 'The', 'issue', 'extends', 'beyond', 'cultural', 'discussions', 'because', 'it', 'creates', 'measurable', 'psychological', 'and', 'societal', 'problems', '.', 'Male', 'mental', 'health', 'has', 'deteriorated', 'in', 'recent', 'years', ',', 'so', 'understanding', 'the', 'social', 'factors', 'that', 'contribute', 'to', 'this', 'crisis', 'would', 'be', 'beneficial', '.', 'While', 'social', 'media', 'has', 'the', 'potential', 'to', 'expand', 'and', 'diversify', 'definitions', 'of', 'masculinity', ',', 'it', 'often', 'amplifies', 'toxic', 'ideologies', '.', 'The', 'increasing', 'rates', 'of', 'male', 'suicide', 'together', 'with', 'emotional', 'repression', 'and', 'social', 'withdrawal', 'create', 'an', 'internal', 'identity', 'conflict', 'which', 'develops', 'through', 'online', 'content', 'consumption', ',', 'almost', 'unnoticeably', '.', 'To', 'understand', 'this', 'crisis', ',', 'we', 'must', 'first', 'explore', 'how', 'masculinity', 'has', 'been', 'defined', 'historically', '.', 'Throughout', 'history', ',', 'masculinity', 'has', 'been', 'associated', 'with', 'dominance', ',', 'emotional', 'control', ',', 'and', 'stoicism', '.', 'Social', 'media', 'algorithms', 'today', 'disrupt', 'and', 'reshape', 'the', 'traditional', 'cultural', 'ideals', 'that', 'family', ',', 'religion', ',', 'and', 'media', 'used', 'to', 'uphold', '.', 'Influencers', 'achieve', 'massive', 'followings', 'through', 'their', 'presentation', 'of', 'aggressive', 'and', 'wealthy', 'and', 'powerful', 'forms', 'of', 'manhood', 'because', 'these', 'messages', 'create', 'intense', 'reactions', 'which', 'generate', 'likes', 'and', 'shares', 'and', 'algorithmic', 'growth', '.', 'Young', 'men', 'who', 'regularly', 'consume', 'these', 'messages', 'adopt', 'dangerous', 'and', 'limited', 'definitions', 'of', 'masculinity', 'even', 'though', 'they', 'may', 'not', 'explicitly', 'endorse', 'them', '.', 'These', 'figures', 'simplify', 'masculinity', 'into', 'two', 'extremes', 'by', 'showing', 'emotional', 'openness', 'as', 'a', 'sign', 'of', 'weakness', '.', 'The', 'repeated', 'exposure', 'to', 'these', 'messages', ',', 'even', 'passively', ',', 'conditions', 'young', 'men', 'to', 'internalize', 'narrow', ',', 'damaging', 'views', 'of', 'what', 'it', 'means', 'to', '“', 'be', 'a', 'man', ',', '”', 'reinforcing', 'insecurity', 'rather', 'than', 'building', 'confidence.The', 'backing', 'comes', 'from', 'psychological', 'and', 'sociological', 'research', '.', 'Ronald', 'F.', 'Levant', 'and', 'Shana', 'Pryor', 'demonstrate', 'in', 'The', 'Tough', 'Standard', ':', 'The', 'Impact', 'of', 'Masculine', 'Ideals', 'on', 'Men', '’', 's', 'Wellbeing', 'that', 'strict', 'masculine', 'norms', 'create', 'negative', 'outcomes', ',', 'including', 'anxiety', ',', 'depression', ',', 'and', 'substance', 'abuse', '.', 'According', 'to', 'Levant', 'and', 'Pryor', ',', 'men', 'who', 'must', 'hide', 'their', 'emotions', 'and', 'avoid', 'showing', 'vulnerability', 'tend', 'to', 'use', 'harmful', 'coping', 'methods', 'which', 'damage', 'themselves', 'and', 'their', 'surrounding', 'people', '.', 'This', 'internalization', 'of', 'stress', 'contributes', 'to', 'emotional', 'isolation', 'and', 'creates', 'long-term', 'consequences', ',', 'from', 'relationship', 'breakdowns', 'to', 'riskier', 'behaviors', 'in', 'adulthood', '.', 'Additionally', ',', 'Y.', 'Joel', 'Wong', 'et', 'al.', ',', 'in', 'their', 'meta-analysis', ',', 'confirm', 'these', 'patterns', 'across', 'a', 'large', 'body', 'of', 'studies', ',', 'showing', 'a', 'strong', 'relationship', 'between', 'conformity', 'to', 'masculine', 'norms', 'and', 'poorer', 'mental', 'health', 'outcomes', '(', 'Wong', 'et', 'al', '.', '80', ')', '.', 'Together', ',', 'these', 'findings', 'show', 'that', 'the', 'influence', 'of', 'hyper-masculine', 'messaging', 'on', 'social', 'media', 'is', 'not', 'just', 'theoretical', ',', 'it', 'has', 'real-world', 'psychological', 'and', 'social', 'consequences', 'that', 'need', 'to', 'be', 'dealt', 'with.There', 'are', 'important', 'qualifiers', 'that', 'must', 'also', 'be', 'addressed', ',', 'one', 'of', 'the', 'main', 'ones', 'being', 'that', 'social', 'media', 'content', 'does', 'not', 'always', 'promote', 'toxic', 'masculinity', 'because', 'there', 'are', 'other', 'types', 'of', 'content', 'available', '.', 'Male', 'influencers', 'as', 'well', 'as', 'mental', 'health', 'advocates', 'and', 'content', 'creators', 'actively', 'work', 'to', 'challenge', 'traditional', 'gender', 'norms', 'by', 'promoting', 'emotional', 'openness', 'and', 'therapy', 'and', 'vulnerability', '.', 'Social', 'media', 'platforms', 'host', 'accounts', 'which', 'promote', 'mental', 'fitness', 'and', 'positive', 'masculinity', 'and', 'healthy', 'relationships', 'as', 'alternative', 'models', 'for', 'young', 'men', 'to', 'emulate', '.', 'According', 'to', 'Potts', 'and', 'Stebleton', ',', 'social', 'media', 'platforms', 'provide', '“', 'two', 'possible', 'roles', 'for', 'men', 'who', 'either', 'display', 'exaggerated', 'masculinity', 'or', 'work', 'toward', 'authentic', 'self-expression', '”', '(', 'Potts', 'and', 'Stebleton', '1', ')', ',', 'while', 'Professor', 'Neil', 'from', 'Malmö', 'University', 'uses', 'his', 'Instagram', 'platform', 'to', 'detoxify', 'masculinity', 'through', 'his', 'promotion', 'of', 'emotional', 'honesty', 'and', 'healthy', 'vulnerability', '(', 'Charalampopoulos', '8', ')', '.', 'These', 'examples', 'demonstrate', 'that', 'social', 'media', 'supports', 'transformation', 'when', 'the', 'algorithm', 'enables', 'such', 'content', 'to', 'gain', 'visibility', '.', 'Levant', 'and', 'Pryor', 'explain', 'that', 'the', 'issue', 'extends', 'beyond', 'individual', 'influencers', 'because', 'online', 'environments', 'with', 'competition', 'and', 'polarization', 'actively', 'support', 'rigid', 'masculine', 'standards', '.', 'The', 'online', 'spread', 'of', 'toxic', 'masculine', 'messages', 'leads', 'to', 'major', 'cultural', 'effects', 'which', 'shape', 'young', 'mens', 'interactions', 'with', 'women', 'and', 'other', 'marginalized', 'groups', '.', 'Through', 'both', 'direct', 'and', 'indirect', 'means', ',', 'hyper-masculine', 'figures', 'spread', 'misogynistic', 'beliefs', 'which', 'portray', 'women', 'as', 'less', 'capable', 'than', 'men', 'and', 'as', 'manipulative', 'or', 'untrustworthy', '.', 'The', 'harmful', 'ideology', 'damages', 'personal', 'relationships', 'while', 'simultaneously', 'fueling', 'cultural', 'resistance', 'against', 'gender', 'equality', '.', 'Potts', 'and', 'Stebleton', 'explain', 'that', 'this', 'form', 'of', 'digital', 'masculinity', 'can', 'become', 'a', 'social', 'performance', 'that', 'builds', 'community', 'through', 'exclusion', ',', 'often', 'at', 'the', 'expense', 'of', 'women', 'and', 'queer', 'individuals', '(', 'Potts', 'and', 'Stebleton', '1', ')', '.', 'Young', 'men', 'who', 'encounter', 'repeated', 'messages', 'linking', 'dominance', 'to', 'respect', 'may', 'face', 'challenges', 'in', 'building', 'respectful', 'relationships', '.', 'Being', 'exposed', 'to', 'these', 'messages', 'reinforces', 'behavioral', 'patterns', 'that', 'support', 'aggression', ',', 'feelings', 'of', 'entitlement', ',', 'and', 'emotional', 'detachment', 'which', 'result', 'in', 'gender-based', 'violence', 'and', 'online', 'harassment', '.', 'These', 'attitudes', 'lead', 'men', 'to', 'become', 'socially', 'isolated', 'which', 'prevents', 'them', 'from', 'building', 'healthy', 'romantic', 'or', 'platonic', 'relationships', 'which', 'creates', 'a', 'cycle', 'of', 'frustration', 'and', 'emotional', 'immaturity', 'that', 'drives', 'them', 'to', 'seek', 'validation', 'from', 'online', 'communities', '.', 'The', '‘', 'need', '’', 'to', 'follow', 'strict', 'masculine', 'norms', 'creates', 'difficulties', 'for', 'men', 'when', 'they', 'try', 'to', 'connect', 'with', 'one-another', 'because', 'it', 'hinders', 'their', 'ability', 'to', 'share', 'emotions', 'in', 'friendships', '.', 'The', 'practice', 'of', 'emotional', 'straightjacketing', 'prevents', 'men', 'from', 'showing', 'fear', 'and', 'sadness', 'and', 'affection', 'because', 'these', 'emotions', 'are', 'considered', 'unmanly', '.', 'Young', 'men', 'often', 'experience', 'social', 'isolation', 'despite', 'their', 'active', 'social', 'lives', 'because', 'of', 'this', 'phenomenon', '.', 'According', 'to', 'Englar-Carlson', ',', 'traditional', 'masculinity', 'creates', 'a', 'major', 'problem', 'by', 'preventing', 'men', 'from', 'forming', 'emotional', 'bonds', 'which', 'are', 'vital', 'for', 'building', 'mental', 'strength', 'and', 'developing', 'healthy', 'identities', '(', 'Englar-Carlson', ')', '.', 'Wong', 'et', 'al', '.', 'back', 'this', 'up', 'by', 'mentioning', 'how', \"'men\", 'who', 'strictly', 'adhere', 'to', 'masculine', 'norms', 'are', 'less', 'likely', 'to', 'seek', 'help', 'or', 'maintain', 'emotionally', 'supportive', 'relationships', ',', 'further', 'exacerbating', 'isolation', \"'\", '(', 'Wong', 'et', 'al', '.', '81', ')', '.', 'This', 'implies', 'that', 'emotional', 'constraints', 'lead', 'to', 'a', 'form', 'of', 'shallow', 'friendships', ',', 'the', 'ones', 'that', 'lack', 'trust', ',', 'which', 'in', 'turn', ',', 'leaves', 'young', 'men', 'without', 'a', 'support', 'system', 'when', 'dealing', 'with', 'emotions', '.', 'Social', 'media', 'platforms', 'that', 'promote', 'performative', 'toughness', 'create', 'additional', 'obstacles', 'for', 'young', 'men', 'to', 'seek', 'help', 'or', 'show', 'vulnerability', 'in', 'public', 'digital', 'environments', '.', 'This', 'can', 'increase', 'isolation', 'since', 'silence', 'is', 'presented', 'as', '‘', 'strength', '’', 'under', 'this', 'view', 'yet', 'it', 'actually', 'blocks', 'their', 'ability', 'to', 'heal', 'and', 'grow', '.', 'In', 'order', 'to', 'address', 'this', 'issue', ',', 'a', 'variety', 'of', 'measures', 'need', 'to', 'be', 'implemented', 'simultaneously', 'to', 'resolve', 'the', 'masculinity', 'crisis', 'across', 'individual', 'and', 'systemic', 'domains', '.', 'Educational', 'institutions', 'should', 'establish', 'media', 'literacy', 'programs', 'which', 'teach', 'students', 'to', 'analyze', 'gendered', 'content', 'found', 'online', '.', 'These', 'programs', 'can', 'enable', 'students', 'to', 'identify', 'harmful', 'stereotypes', 'while', 'they', 'learn', 'to', 'doubt', 'influencer', 'credibility', 'and', 'establish', 'better', 'definitions', 'of', 'masculinity', '.', 'The', 'research', 'by', 'Charalampopoulos', 'on', 'Professor', 'Neil', '’', 's', 'Instagram', 'platform', 'shows', 'that', 'content', 'creators', 'who', 'model', 'healthy', 'masculinity', 'can', 'effectively', 'counter', 'toxic', 'norms', 'when', 'their', 'platforms', 'focus', 'on', 'vulnerability', 'and', 'emotional', 'intelligence', '(', 'Charalampopoulos', '40', ')', '.', 'Second', ',', 'social', 'media', 'companies', 'need', 'to', 'reassess', 'how', 'their', 'algorithms', 'prioritize', 'content', '.', 'Platforms', 'that', 'reward', 'sensationalism', 'should', 'also', 'invest', 'in', 'promoting', 'creators', 'who', 'model', 'positive', ',', 'emotionally', 'intelligent', 'behaviors', '.', 'Government', 'policy', 'may', 'also', 'play', 'a', 'role', 'by', 'incentivizing', 'platforms', 'to', 'promote', 'mental', 'wellness', 'and', 'equity', 'in', 'representation', '.', 'Mental', 'health', 'services', 'need', 'to', 'develop', 'specific', 'outreach', 'strategies', 'for', 'young', 'men', 'which', 'combine', 'stigma', 'reduction', 'with', 'accessible', 'support', 'systems', 'that', 'young', 'men', 'can', 'relate', 'to', '.', 'The', 'approach', 'should', 'include', 'male-specific', 'group', 'therapy', 'together', 'with', 'mentorship', 'programs', 'and', 'public', 'awareness', 'campaigns', 'that', 'show', 'emotional', 'strength', 'as', 'a', 'masculine', 'trait', '.', 'The', 'combined', 'strategies', 'have', 'the', 'power', 'to', 'break', 'harmful', 'patterns', 'while', 'building', 'a', 'more', 'empathetic', 'and', 'inclusive', 'definition', 'of', 'masculinity', '.', 'Young', 'men', 'need', 'to', 'evaluate', 'how', 'online', 'representations', 'of', 'masculinity', 'influence', 'their', 'self-perception', 'and', 'their', 'views', 'about', 'their', 'body', 'image', '.', 'The', 'research', 'shows', 'that', 'men', 'now', 'face', 'similar', 'body', 'image', 'pressures', 'that', 'used', 'to', 'be', 'associated', 'with', 'women', '.', 'Social', 'media', 'platforms', 'display', 'muscular', ',', 'wealthy', 'male', 'influencers', 'who', 'present', 'themselves', 'as', 'confident', 'standards', 'for', 'men', '.', 'The', 'research', 'by', 'Wong', 'et', 'al', 'shows', 'that', 'following', 'masculine', 'appearance', 'standards', 'results', 'in', 'psychological', 'distress', 'and', 'disordered', 'behaviors', 'which', 'include', 'compulsive', 'exercising', 'and', 'body', 'dissatisfaction', '.', 'The', 'meta-analysis', 'shows', 'that', '“', 'men', 'who', 'feel', 'pressured', 'to', 'achieve', 'unattainable', 'physical', 'standards', 'develop', 'low', 'self-esteem', 'and', 'experience', 'anxiety', 'and', 'shame', '”', '(', 'Wong', 'et', 'al', '.', '84', ')', '.', 'Young', 'men', 'who', 'try', 'to', 'meet', 'these', 'unattainable', 'standards', 'may', 'develop', 'dangerous', 'practices', 'or', 'experience', 'inadequacy', 'which', 'worsens', 'the', 'mental', 'health', 'crisis', '.', 'The', 'social', 'media', 'era', 'reveals', 'the', 'masculinity', 'crisis', 'as', 'a', 'cultural', 'problem', 'which', 'society', 'has', 'ignored', 'for', 'a', 'long', 'time', '.', 'The', 'platforms', \"'\", 'influence', 'on', 'young', 'men', \"'s\", 'self-perception', 'and', 'their', 'perception', 'of', 'others', 'leads', 'to', 'increasing', 'risks', '.', 'The', 'study', 'reveals', 'that', 'online', 'hyper-masculine', 'content', 'produces', 'adverse', 'mental', 'health', 'consequences', 'and', 'emotional', 'isolation', 'and', 'aggressive', 'behavior', 'based', 'on', 'gender', 'and', 'restricted', 'personal', 'growth', '.', 'Social', 'media', 'simultaneously', 'presents', 'dual', 'opportunities', 'for', 'recovery', 'and', 'reformation', '.', 'Educational', 'programs', 'combined', 'with', 'media', 'oversight', 'and', 'mental', 'health', 'support', 'initiatives', 'enable', 'society', 'to', 'help', 'young', 'men', 'develop', 'new', 'definitions', 'of', 'strength', 'and', 'emotional', 'intelligence', '.', 'The', 'process', 'of', 'redefining', 'masculinity', 'requires', 'expanding', 'its', 'definition', 'to', 'include', 'emotional', 'vulnerability', ',', 'empathetic', 'behavior', ',', 'and', 'authentic', 'self-expression', '.', 'Only', 'through', 'this', 'approach', 'can', 'a', 'healthier', 'and', 'more', 'inclusive', 'future', 'emerge', 'for', 'those', 'finding', 'their', 'own', 'identity', 'in', 'the', 'digital', 'age', '.']\n"
     ]
    }
   ],
   "execution_count": 64
  },
  {
   "metadata": {
    "ExecuteTime": {
     "end_time": "2025-07-27T19:23:26.635669Z",
     "start_time": "2025-07-27T19:23:26.627936Z"
    }
   },
   "cell_type": "code",
   "source": [
    "unigrams = (pd.Series(nltk.ngrams(stwotokenized, 1)).value_counts())\n",
    "print(unigrams[:20])\n"
   ],
   "id": "8e81cf5190559fc2",
   "outputs": [
    {
     "name": "stdout",
     "output_type": "stream",
     "text": [
      "(and,)            66\n",
      "(.,)              65\n",
      "(to,)             49\n",
      "(,,)              46\n",
      "(of,)             30\n",
      "(men,)            25\n",
      "(that,)           25\n",
      "(masculinity,)    19\n",
      "(The,)            19\n",
      "(media,)          17\n",
      "(which,)          17\n",
      "(a,)              16\n",
      "(their,)          16\n",
      "(emotional,)      16\n",
      "(social,)         14\n",
      "(the,)            14\n",
      "(in,)             13\n",
      "(young,)          11\n",
      "(as,)             10\n",
      "(with,)           10\n",
      "Name: count, dtype: int64\n"
     ]
    }
   ],
   "execution_count": 66
  },
  {
   "metadata": {
    "ExecuteTime": {
     "end_time": "2025-07-27T19:23:43.707773Z",
     "start_time": "2025-07-27T19:23:43.507248Z"
    }
   },
   "cell_type": "code",
   "source": [
    "unigrams[:20].sort_values().plot.barh(color=\"lightsalmon\", width=1, figsize=(12,8))\n",
    "plt.title(\"Top 20 most used unigrams\")"
   ],
   "id": "5de67075032fb3c7",
   "outputs": [
    {
     "data": {
      "text/plain": [
       "Text(0.5, 1.0, 'Top 20 most used unigrams')"
      ]
     },
     "execution_count": 67,
     "metadata": {},
     "output_type": "execute_result"
    },
    {
     "data": {
      "text/plain": [
       "<Figure size 1200x800 with 1 Axes>"
      ],
      "image/png": "[encoded data removed]"
     },
     "metadata": {},
     "output_type": "display_data"
    }
   ],
   "execution_count": 67
  },
  {
   "metadata": {
    "ExecuteTime": {
     "end_time": "2025-07-27T19:31:57.276354Z",
     "start_time": "2025-07-27T19:31:57.268602Z"
    }
   },
   "cell_type": "code",
   "source": [
    "bigram = (pd.Series(nltk.ngrams(stwotokenized, 2)).value_counts())\n",
    "print(bigram[:20])"
   ],
   "id": "f52d22aaae4b1a80",
   "outputs": [
    {
     "name": "stdout",
     "output_type": "stream",
     "text": [
      "(., The)              17\n",
      "(young, men)          10\n",
      "(social, media)        8\n",
      "(mental, health)       7\n",
      "(), .)                 7\n",
      "(of, masculinity)      6\n",
      "(Wong, et)             6\n",
      "(., Social)            6\n",
      "(Social, media)        6\n",
      "(men, who)             6\n",
      "(,, and)               6\n",
      "(Young, men)           5\n",
      "(media, platforms)     5\n",
      "(et, al)               5\n",
      "(and, emotional)       5\n",
      "(need, to)             5\n",
      "(., Young)             5\n",
      "(definitions, of)      5\n",
      "(and, Stebleton)       4\n",
      "(men, to)              4\n",
      "Name: count, dtype: int64\n"
     ]
    }
   ],
   "execution_count": 68
  },
  {
   "metadata": {},
   "cell_type": "markdown",
   "source": "Practical",
   "id": "349570ece716bc2f"
  },
  {
   "metadata": {},
   "cell_type": "code",
   "outputs": [],
   "execution_count": null,
   "source": "",
   "id": "7569e6b8ad0b89ca"
  }
 ],
 "metadata": {
  "kernelspec": {
   "display_name": "Python 3",
   "language": "python",
   "name": "python3"
  },
  "language_info": {
   "codemirror_mode": {
    "name": "ipython",
    "version": 2
   },
   "file_extension": ".py",
   "mimetype": "text/x-python",
   "name": "python",
   "nbconvert_exporter": "python",
   "pygments_lexer": "ipython2",
   "version": "2.7.6"
  }
 },
 "nbformat": 4,
 "nbformat_minor": 5
}
